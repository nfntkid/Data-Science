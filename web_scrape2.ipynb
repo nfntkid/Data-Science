{
 "cells": [
  {
   "cell_type": "markdown",
   "metadata": {},
   "source": [
    "EXERCISES"
   ]
  },
  {
   "cell_type": "markdown",
   "metadata": {},
   "source": [
    "1. LOAD THE WEBPAGE"
   ]
  },
  {
   "cell_type": "code",
   "execution_count": null,
   "metadata": {
    "scrolled": true
   },
   "outputs": [],
   "source": [
    "from bs4 import BeautifulSoup as bfs\n",
    "import requests as rq\n",
    "import re\n",
    "#load webpage content\n",
    "r = rq.get(\"https://keithgalli.github.io/web-scraping/webpage.html\") \n",
    "#r = rq.get(\"https://www.binance.com/en/markets\")\n",
    "\n",
    "#convert to a BeautifulSoup Object\n",
    "webpage = bfs(r.content)\n",
    "#print(webpage.prettify())"
   ]
  },
  {
   "cell_type": "markdown",
   "metadata": {},
   "source": [
    "2. Grab all of the social links from the webpage\n",
    "   *Do this in 3 different ways"
   ]
  },
  {
   "cell_type": "code",
   "execution_count": null,
   "metadata": {},
   "outputs": [],
   "source": [
    "links = webpage.select(\"a\")\n",
    "actual_links = [link['href'] for link in links]\n",
    "actual_links"
   ]
  },
  {
   "cell_type": "code",
   "execution_count": null,
   "metadata": {},
   "outputs": [],
   "source": [
    "ulist = webpage.find(\"ul\", attrs={\"class\":\"socials\"})\n",
    "links = ulist.find_all(\"a\")\n",
    "actual_links = [link['href'] for link in links]\n",
    "actual_links"
   ]
  },
  {
   "cell_type": "code",
   "execution_count": null,
   "metadata": {},
   "outputs": [],
   "source": [
    "links = webpage.select(\"li.social a\")\n",
    "links"
   ]
  },
  {
   "cell_type": "code",
   "execution_count": null,
   "metadata": {},
   "outputs": [],
   "source": [
    "import pandas as pd\n",
    "\n",
    "table = webpage.select(\"table.hockey-stats\")[0]\n",
    "\n",
    "columns = table.find(\"thead\").find_all(\"th\")\n",
    "column_names = [c.string for c in columms]\n",
    "column_names\n",
    "\n",
    "table_rows = table.find(\"tbody\").find_all(\"tr\")\n",
    "l = []\n",
    "\n",
    "for tr in table_rows:\n",
    "    td = tr.find_all(\"td\")\n",
    "    row = [str(tr.get_text()).strip() for tr in td]\n",
    "    l.append(row)\n",
    "    \n",
    "#print(l[0])\n",
    "df = pd.DataFrame(l, columns=column_names )\n",
    "df.head()"
   ]
  },
  {
   "cell_type": "code",
   "execution_count": null,
   "metadata": {},
   "outputs": [],
   "source": [
    "facts = webpage.select(\"ul.fun-facts li\")\n",
    "facts_with_is=[fact.find(string =re.compile(\"is \")) for fact in facts]\n",
    "print(facts_with_is)\n",
    "facts_with_is = [fact.find_parent().get_text() for fact in facts_with_is if fact] \n",
    "facts_with_is"
   ]
  },
  {
   "cell_type": "code",
   "execution_count": null,
   "metadata": {},
   "outputs": [],
   "source": [
    "files = webpage.select(\"div.block a\")\n",
    "relative_files = [f[\"href\"] for f in files]\n",
    "\n",
    "url = \"https://keithgalli.github.io/web-scraping/\"\n",
    "for f in relative_files:\n",
    "    full_url = url + f\n",
    "    page=rq.get(full_url)\n",
    "    bs_page = bfs(page.content)\n",
    "    secret_word = (bs_page.find(\"p\", attrs={\"id\":\"secret-word\"}))\n",
    "    secret_word = secret_word.string\n",
    "    print(secret_word)"
   ]
  },
  {
   "cell_type": "code",
   "execution_count": null,
   "metadata": {},
   "outputs": [],
   "source": []
  }
 ],
 "metadata": {
  "kernelspec": {
   "display_name": "Python 3",
   "language": "python",
   "name": "python3"
  },
  "language_info": {
   "codemirror_mode": {
    "name": "ipython",
    "version": 3
   },
   "file_extension": ".py",
   "mimetype": "text/x-python",
   "name": "python",
   "nbconvert_exporter": "python",
   "pygments_lexer": "ipython3",
   "version": "3.8.5"
  }
 },
 "nbformat": 4,
 "nbformat_minor": 4
}
