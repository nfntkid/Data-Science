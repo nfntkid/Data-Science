{
 "cells": [
  {
   "cell_type": "code",
   "execution_count": null,
   "metadata": {},
   "outputs": [],
   "source": [
    "from bs4 import BeautifulSoup as bfs\n",
    "import requests as rq"
   ]
  },
  {
   "cell_type": "code",
   "execution_count": null,
   "metadata": {},
   "outputs": [],
   "source": [
    "#load webpage content\n",
    "r = rq.get(\"https://keithgalli.github.io/web-scraping/example.html\") \n",
    "#r = rq.get(\"https://www.binance.com/en/markets\") \n",
    "\n",
    "\n",
    "#convert to a BeautifulSoup Object\n",
    "soup = bfs(r.content)\n",
    "print(soup.prettify())"
   ]
  },
  {
   "cell_type": "code",
   "execution_count": null,
   "metadata": {},
   "outputs": [],
   "source": [
    "first_header = soup.find(\"h1\")\n",
    "\n",
    "headers = soup.find_all(\"h2\")\n",
    "headers"
   ]
  },
  {
   "cell_type": "code",
   "execution_count": null,
   "metadata": {},
   "outputs": [],
   "source": [
    "header_list = soup.find_all([\"p\", \"h2\"])\n",
    "header_list"
   ]
  },
  {
   "cell_type": "code",
   "execution_count": null,
   "metadata": {},
   "outputs": [],
   "source": [
    "# you can pass in attributes to the find/finall function\n",
    "paragraph = soup.find_all(\"p\", attrs = {\"id\":\"paragraph-id\"})\n",
    "paragraph"
   ]
  },
  {
   "cell_type": "code",
   "execution_count": null,
   "metadata": {},
   "outputs": [],
   "source": [
    "# you can isolate all tags using the find/find_all call\n",
    "body = soup.find(\"body\")\n",
    "div = soup.find(\"div\")\n",
    "h1 = soup.find(\"h1\")\n",
    "p_tag = soup.find(\"p\")"
   ]
  },
  {
   "cell_type": "code",
   "execution_count": null,
   "metadata": {},
   "outputs": [],
   "source": [
    "# if you want to find any paragraph with the test \"Some\"\n",
    "# use the regex library\n",
    "import re\n",
    "\n",
    "paragraphs = soup.find_all(\"p\", string = re.compile(\"S|some\"))\n",
    "paragraphs"
   ]
  },
  {
   "cell_type": "code",
   "execution_count": null,
   "metadata": {},
   "outputs": [],
   "source": [
    "content = soup.find(\"p\")\n",
    "content.get_text()"
   ]
  },
  {
   "cell_type": "code",
   "execution_count": null,
   "metadata": {},
   "outputs": [],
   "source": [
    "#KNOW THE TERMS: PARENT, SIBLING, CHILD\n",
    "print(soup.body.prettify())"
   ]
  },
  {
   "cell_type": "code",
   "execution_count": null,
   "metadata": {},
   "outputs": [],
   "source": [
    "#load webpage content\n",
    "r = rq.get(\"https://keithgalli.github.io/web-scraping/ewebpage.html\") \n",
    "\n",
    "#convert to a BeautifulSoup Object\n",
    "webpage = bfs(r.content)\n",
    "print(webpage.prettify())"
   ]
  },
  {
   "cell_type": "code",
   "execution_count": null,
   "metadata": {},
   "outputs": [],
   "source": []
  }
 ],
 "metadata": {
  "kernelspec": {
   "display_name": "Python 3",
   "language": "python",
   "name": "python3"
  },
  "language_info": {
   "codemirror_mode": {
    "name": "ipython",
    "version": 3
   },
   "file_extension": ".py",
   "mimetype": "text/x-python",
   "name": "python",
   "nbconvert_exporter": "python",
   "pygments_lexer": "ipython3",
   "version": "3.8.5"
  }
 },
 "nbformat": 4,
 "nbformat_minor": 4
}
