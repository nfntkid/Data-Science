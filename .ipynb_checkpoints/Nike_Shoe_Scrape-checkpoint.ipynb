{
 "cells": [
  {
   "cell_type": "markdown",
   "metadata": {},
   "source": [
    "LOAD THE WHOLE PAGE USING SELENIUM"
   ]
  },
  {
   "cell_type": "raw",
   "metadata": {},
   "source": [
    "# MENS SHOES\n",
    "\n",
    "url = 'https://www.nike.com/w/mens-shoes-nik1zy7ok'\n",
    "csv_name = 'Nike_Mens_Shoes'"
   ]
  },
  {
   "cell_type": "raw",
   "metadata": {},
   "source": [
    "# Womens Shoes\n",
    "\n",
    "url = 'https://www.nike.com/w/womens-shoes-5e1x6zy7ok'\n",
    "csv_name = 'Nike_Womens_Shoes'"
   ]
  },
  {
   "cell_type": "code",
   "execution_count": null,
   "metadata": {},
   "outputs": [],
   "source": [
    "import time\n",
    "from selenium import webdriver\n",
    "from urllib.parse import urljoin\n",
    "import requests as rq\n",
    "from bs4 import BeautifulSoup as bsp\n",
    "import pandas as pd\n",
    "\n",
    "##### Web scrapper for infinite scrolling page #####\n",
    "driver = webdriver.Chrome('/Users/Yousefmacer/guthub/chromedriver')\n",
    "driver.get(url)\n",
    "time.sleep(2)  # Allow 2 seconds for the web page to open\n",
    "scroll_pause_time = 1 # You can set your own pause time. My laptop is a bit slow so I use 1 sec\n",
    "screen_height = driver.execute_script(\"return window.screen.height;\")   # get the screen height of the web\n",
    "i = 1\n",
    " \n",
    "\n",
    "while True:\n",
    "    # scroll one screen height each time\n",
    "    driver.execute_script(\"window.scrollTo(0, {screen_height}*{i});\".format(screen_height=screen_height, i=i))  \n",
    "    i += 1\n",
    "    time.sleep(scroll_pause_time)\n",
    "    # update scroll height each time after scrolled, as the scroll height can change after we scrolled the page\n",
    "    scroll_height = driver.execute_script(\"return document.body.scrollHeight;\")  \n",
    "    # Break the loop when the height we need to scroll to is larger than the total scroll height\n",
    "    if (screen_height) * i > scroll_height:\n",
    "        break \n"
   ]
  },
  {
   "cell_type": "markdown",
   "metadata": {},
   "source": [
    "---\n"
   ]
  },
  {
   "cell_type": "markdown",
   "metadata": {},
   "source": [
    "---"
   ]
  },
  {
   "cell_type": "markdown",
   "metadata": {},
   "source": [
    "---"
   ]
  },
  {
   "cell_type": "markdown",
   "metadata": {},
   "source": [
    "CREATE DICTIONARY FOR THE SHOE OBJECT"
   ]
  },
  {
   "cell_type": "code",
   "execution_count": null,
   "metadata": {},
   "outputs": [],
   "source": [
    "shoe_dict = {\n",
    "    \"Name\":[],\n",
    "    \"Price\":[],\n",
    "    \"Category\":[] \n",
    "}"
   ]
  },
  {
   "cell_type": "markdown",
   "metadata": {},
   "source": [
    "---"
   ]
  },
  {
   "cell_type": "markdown",
   "metadata": {},
   "source": [
    "---"
   ]
  },
  {
   "cell_type": "markdown",
   "metadata": {},
   "source": [
    "---"
   ]
  },
  {
   "cell_type": "markdown",
   "metadata": {},
   "source": [
    "EXTRACT THE ATTRIUBUTES FROM THE SOUP"
   ]
  },
  {
   "cell_type": "code",
   "execution_count": null,
   "metadata": {},
   "outputs": [],
   "source": [
    "\n",
    "# GET SOUP FROM THE LOADED DRIVER  \n",
    "web_soup = bsp(driver.page_source, \"html.parser\")\n",
    "shoe_obj = web_soup.find_all(\"div\", {\"class\":\"product-card css-p5gpvn css-z5nr6i css-11ziap1 css-zk7jxt css-dpr2cn product-grid__card\"})\n",
    "\n",
    "\n",
    "for shoe in shoe_obj:\n",
    "    title = shoe.find(\"div\",{\"class\":\"product-card__title\"}) \n",
    "    price = shoe.find(\"div\",{\"class\":\"product-price css-11s12ax is--current-price\"})\n",
    "    sale_price = shoe.find(\"div\",{\"class\":\"product-price is--current-price css-s56yt7\"})\n",
    "    category = shoe.find(\"div\",{\"class\":\"product-card__subtitle\"})\n",
    "    if title != None and price != None and category != None: \n",
    "        shoe_dict[\"Name\"].append(title.get_text())\n",
    "        shoe_dict[\"Price\"].append(price.get_text())\n",
    "        shoe_dict[\"Category\"].append(category.get_text())  \n",
    "  "
   ]
  },
  {
   "cell_type": "markdown",
   "metadata": {},
   "source": [
    "---"
   ]
  },
  {
   "cell_type": "markdown",
   "metadata": {},
   "source": [
    "---"
   ]
  },
  {
   "cell_type": "markdown",
   "metadata": {},
   "source": [
    "---"
   ]
  },
  {
   "cell_type": "markdown",
   "metadata": {},
   "source": [
    "CREATE DATAFRAME & EXPORT TO CSV"
   ]
  },
  {
   "cell_type": "code",
   "execution_count": 21,
   "metadata": {},
   "outputs": [],
   "source": [
    "import time\n",
    "df = pd.DataFrame(shoe_dict)\n",
    "pd.set_option('display.max_columns', None)\n",
    "df.to_csv(csv_name, sep=',')"
   ]
  },
  {
   "cell_type": "code",
   "execution_count": null,
   "metadata": {},
   "outputs": [],
   "source": []
  }
 ],
 "metadata": {
  "kernelspec": {
   "display_name": "Python 3",
   "language": "python",
   "name": "python3"
  },
  "language_info": {
   "codemirror_mode": {
    "name": "ipython",
    "version": 3
   },
   "file_extension": ".py",
   "mimetype": "text/x-python",
   "name": "python",
   "nbconvert_exporter": "python",
   "pygments_lexer": "ipython3",
   "version": "3.8.5"
  }
 },
 "nbformat": 4,
 "nbformat_minor": 4
}
