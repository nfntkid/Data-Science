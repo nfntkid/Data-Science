{
 "cells": [
  {
   "cell_type": "code",
   "execution_count": null,
   "metadata": {
    "scrolled": true
   },
   "outputs": [],
   "source": [
    "import requests as rq\n",
    "from bs4 import BeautifulSoup as bsp\n",
    "\n",
    "#isolate the url, then feed into a soup object after formatting using requests\n",
    "url = \"https://www.whitehouse.gov/briefing-room/\"\n",
    "page = rq.get(url)\n",
    "content = page.content\n",
    "webpage = bsp(content,\"lxml\")\n",
    "\n",
    "print(webpage.prettify())    "
   ]
  },
  {
   "cell_type": "code",
   "execution_count": null,
   "metadata": {
    "scrolled": true
   },
   "outputs": [],
   "source": [
    "# find the Tags\n",
    "links = (webpage.find_all(\"a\"))\n",
    "h1_tags = (webpage.find_all(\"h1\"))\n",
    "h2_tags = (webpage.find_all(\"h2\"))\n",
    "p_tags = (webpage.find_all(\"p\"))\n",
    "a_tags = (webpage.find_all(\"a\"))\n",
    "bolds = (webpage.find_all(\"b\"))\n",
    "divs = (webpage.find_all(\"div\"))\n"
   ]
  },
  {
   "cell_type": "code",
   "execution_count": null,
   "metadata": {},
   "outputs": [],
   "source": []
  },
  {
   "cell_type": "code",
   "execution_count": null,
   "metadata": {},
   "outputs": [],
   "source": []
  }
 ],
 "metadata": {
  "kernelspec": {
   "display_name": "Python 3",
   "language": "python",
   "name": "python3"
  },
  "language_info": {
   "codemirror_mode": {
    "name": "ipython",
    "version": 3
   },
   "file_extension": ".py",
   "mimetype": "text/x-python",
   "name": "python",
   "nbconvert_exporter": "python",
   "pygments_lexer": "ipython3",
   "version": "3.8.5"
  }
 },
 "nbformat": 4,
 "nbformat_minor": 4
}
