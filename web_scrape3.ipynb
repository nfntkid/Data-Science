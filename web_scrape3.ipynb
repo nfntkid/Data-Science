{
 "cells": [
  {
   "cell_type": "code",
   "execution_count": 67,
   "metadata": {},
   "outputs": [
    {
     "name": "stdout",
     "output_type": "stream",
     "text": [
      "GoogleSearch Images Maps Play YouTube News Gmail Drive More »Web History | Settings | Sign in Advanced searchCalling all young artists: 1 week left to submit your artwork for Doodle for GoogleAdvertising ProgramsBusiness SolutionsAbout Google© 2021 - Privacy - Terms \n"
     ]
    }
   ],
   "source": [
    "from bs4 import BeautifulSoup as bsp\n",
    "import requests as rq\n",
    "\n",
    "\n",
    "webpage = \"https://google.com\" #isolate the link\n",
    "webpage = rq.get(webpage) # use requests to convert the webpage \n",
    "source = webpage.content # get the content from the webpage\n",
    "web_soup = bsp(source,\"lxml\") #convert into a soup object\n",
    "#print(web_soup.prettify()) #print the soup object in a formatted output\n",
    "print(web_soup.get_text())"
   ]
  },
  {
   "cell_type": "code",
   "execution_count": 71,
   "metadata": {},
   "outputs": [
    {
     "name": "stdout",
     "output_type": "stream",
     "text": [
      "Images\n",
      "Maps\n",
      "Play\n",
      "YouTube\n",
      "News\n",
      "Gmail\n",
      "Drive\n",
      "More »\n",
      "Web History\n",
      "Settings\n",
      "Sign in\n",
      "Advanced search\n",
      "Doodle for Google\n",
      "Advertising Programs\n",
      "Business Solutions\n",
      "<a href=\"/intl/en/about.html\">About Google</a>\n",
      "About Google\n",
      "Privacy\n",
      "Terms\n"
     ]
    }
   ],
   "source": [
    "links = web_soup.find_all(\"a\") # find all the links in the webpage\n",
    "for link in links:\n",
    "    if \"About\" in link.text:\n",
    "        print(link)\n",
    "    link = link.get_text()\n",
    "    print(link)"
   ]
  },
  {
   "cell_type": "code",
   "execution_count": null,
   "metadata": {},
   "outputs": [],
   "source": []
  },
  {
   "cell_type": "code",
   "execution_count": null,
   "metadata": {},
   "outputs": [],
   "source": []
  }
 ],
 "metadata": {
  "kernelspec": {
   "display_name": "Python 3",
   "language": "python",
   "name": "python3"
  },
  "language_info": {
   "codemirror_mode": {
    "name": "ipython",
    "version": 3
   },
   "file_extension": ".py",
   "mimetype": "text/x-python",
   "name": "python",
   "nbconvert_exporter": "python",
   "pygments_lexer": "ipython3",
   "version": "3.8.5"
  }
 },
 "nbformat": 4,
 "nbformat_minor": 4
}
