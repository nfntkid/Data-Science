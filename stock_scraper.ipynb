{
 "cells": [
  {
   "cell_type": "markdown",
   "metadata": {},
   "source": [
    "DEFINE FEEDER FUNCTION"
   ]
  },
  {
   "cell_type": "code",
   "execution_count": null,
   "metadata": {},
   "outputs": [],
   "source": [
    "import requests as rq\n",
    "from bs4 import BeautifulSoup as bsp\n",
    "def return_stock_info(symbol):\n",
    "    headers = {\"User-Agent\":\"Mozilla/5.0 (Macintosh; Intel Mac OS X 10.15; rv:85.0) Gecko/20100101 Firefox/85.0\"}\n",
    "    #url = \"https://finance.yahoo.com/quote/{}.L\".format(symbol)\n",
    "    url = \"https://finance.yahoo.com/quote/{}?p={}\".format(symbol,symbol)\n",
    "    response = rq.get(url)\n",
    "    soup = bsp(response.text,\"html.parser\")\n",
    "    stock={\"Stock\":symbol,\n",
    "    'Price' : soup.find('div', {'class':'D(ib) Mend(20px)'}).find_all(\"span\")[0].text,\n",
    "    'Change %' : soup.find('div', {'class':'D(ib) Mend(20px)'}).find_all(\"span\")[1].text\n",
    "    }\n",
    "    print(stock)"
   ]
  },
  {
   "cell_type": "markdown",
   "metadata": {},
   "source": [
    "CREATE LIST, FEED DATA TO FUNCTION"
   ]
  },
  {
   "cell_type": "code",
   "execution_count": 130,
   "metadata": {
    "scrolled": true
   },
   "outputs": [
    {
     "name": "stdout",
     "output_type": "stream",
     "text": [
      "{'Stock': 'SNDL', 'Price': '1.4500', 'Change %': '-0.2700 (-15.70%)'}\n",
      "{'Stock': 'AMC', 'Price': '5.51', 'Change %': '-0.04 (-0.72%)'}\n",
      "{'Stock': 'NAK', 'Price': '0.7813', 'Change %': '-0.0787 (-9.15%)'}\n",
      "{'Stock': 'U', 'Price': '118.37', 'Change %': '-3.13 (-2.58%)'}\n",
      "{'Stock': 'NOK', 'Price': '4.1200', 'Change %': '+0.0100 (+0.24%)'}\n",
      "{'Stock': 'BB', 'Price': '10.94', 'Change %': '-0.38 (-3.36%)'}\n",
      "{'Stock': 'TSLA', 'Price': '787.38', 'Change %': '-10.77 (-1.35%)'}\n",
      "{'Stock': 'SHOP', 'Price': '1,384.57', 'Change %': '-40.43 (-2.84%)'}\n",
      "{'Stock': 'FB', 'Price': '269.39', 'Change %': '-4.18 (-1.53%)'}\n",
      "{'Stock': 'FB', 'Price': '269.39', 'Change %': '-4.18 (-1.53%)'}\n",
      "{'Stock': 'PTC', 'Price': '143.21', 'Change %': '-0.98 (-0.68%)'}\n",
      "{'Stock': 'LITE', 'Price': '91.42', 'Change %': '-1.34 (-1.44%)'}\n",
      "{'Stock': 'HIMX', 'Price': '14.16', 'Change %': '-1.08 (-7.09%)'}\n",
      "{'Stock': 'MSFT', 'Price': '243.79', 'Change %': '-0.41 (-0.17%)'}\n",
      "{'Stock': 'AAPL', 'Price': '129.71', 'Change %': '-1.13 (-0.86%)'}\n"
     ]
    }
   ],
   "source": [
    "stocks = [\"SNDL\",'AMC','NAK','U','NOK','BB','TSLA',\n",
    "          'SHOP','FB','FB', 'PTC','LITE','HIMX',\n",
    "          'MSFT','AAPL']\n",
    "\n",
    "try:\n",
    "    [return_stock_info(symbol) for symbol in stocks]\n",
    "except:\n",
    "    print(\"symbol unavailable\")"
   ]
  },
  {
   "cell_type": "markdown",
   "metadata": {},
   "source": []
  },
  {
   "cell_type": "code",
   "execution_count": null,
   "metadata": {},
   "outputs": [],
   "source": []
  }
 ],
 "metadata": {
  "kernelspec": {
   "display_name": "Python 3",
   "language": "python",
   "name": "python3"
  },
  "language_info": {
   "codemirror_mode": {
    "name": "ipython",
    "version": 3
   },
   "file_extension": ".py",
   "mimetype": "text/x-python",
   "name": "python",
   "nbconvert_exporter": "python",
   "pygments_lexer": "ipython3",
   "version": "3.8.5"
  }
 },
 "nbformat": 4,
 "nbformat_minor": 4
}
